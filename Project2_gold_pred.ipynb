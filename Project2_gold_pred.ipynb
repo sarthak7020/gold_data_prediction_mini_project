{
 "cells": [
  {
   "cell_type": "code",
   "execution_count": 2,
   "id": "51264c35",
   "metadata": {},
   "outputs": [],
   "source": [
    "import numpy as np\n",
    "import pandas as pd\n",
    "import matplotlib.pyplot as plt\n",
    "import seaborn as sns\n",
    "from sklearn.model_selection import train_test_split\n",
    "from sklearn.ensemble import RandomForestRegressor\n",
    "from sklearn import metrics\n"
   ]
  },
  {
   "cell_type": "code",
   "execution_count": 3,
   "id": "a515e8d7",
   "metadata": {},
   "outputs": [
    {
     "data": {
      "text/html": [
       "<div>\n",
       "<style scoped>\n",
       "    .dataframe tbody tr th:only-of-type {\n",
       "        vertical-align: middle;\n",
       "    }\n",
       "\n",
       "    .dataframe tbody tr th {\n",
       "        vertical-align: top;\n",
       "    }\n",
       "\n",
       "    .dataframe thead th {\n",
       "        text-align: right;\n",
       "    }\n",
       "</style>\n",
       "<table border=\"1\" class=\"dataframe\">\n",
       "  <thead>\n",
       "    <tr style=\"text-align: right;\">\n",
       "      <th></th>\n",
       "      <th>Date</th>\n",
       "      <th>SPX</th>\n",
       "      <th>GLD</th>\n",
       "      <th>USO</th>\n",
       "      <th>SLV</th>\n",
       "      <th>EUR/USD</th>\n",
       "    </tr>\n",
       "  </thead>\n",
       "  <tbody>\n",
       "    <tr>\n",
       "      <th>0</th>\n",
       "      <td>1/2/2008</td>\n",
       "      <td>1447.160034</td>\n",
       "      <td>84.860001</td>\n",
       "      <td>78.470001</td>\n",
       "      <td>15.180</td>\n",
       "      <td>1.471692</td>\n",
       "    </tr>\n",
       "    <tr>\n",
       "      <th>1</th>\n",
       "      <td>1/3/2008</td>\n",
       "      <td>1447.160034</td>\n",
       "      <td>85.570000</td>\n",
       "      <td>78.370003</td>\n",
       "      <td>15.285</td>\n",
       "      <td>1.474491</td>\n",
       "    </tr>\n",
       "    <tr>\n",
       "      <th>2</th>\n",
       "      <td>1/4/2008</td>\n",
       "      <td>1411.630005</td>\n",
       "      <td>85.129997</td>\n",
       "      <td>77.309998</td>\n",
       "      <td>15.167</td>\n",
       "      <td>1.475492</td>\n",
       "    </tr>\n",
       "    <tr>\n",
       "      <th>3</th>\n",
       "      <td>1/7/2008</td>\n",
       "      <td>1416.180054</td>\n",
       "      <td>84.769997</td>\n",
       "      <td>75.500000</td>\n",
       "      <td>15.053</td>\n",
       "      <td>1.468299</td>\n",
       "    </tr>\n",
       "    <tr>\n",
       "      <th>4</th>\n",
       "      <td>1/8/2008</td>\n",
       "      <td>1390.189941</td>\n",
       "      <td>86.779999</td>\n",
       "      <td>76.059998</td>\n",
       "      <td>15.590</td>\n",
       "      <td>1.557099</td>\n",
       "    </tr>\n",
       "  </tbody>\n",
       "</table>\n",
       "</div>"
      ],
      "text/plain": [
       "       Date          SPX        GLD        USO     SLV   EUR/USD\n",
       "0  1/2/2008  1447.160034  84.860001  78.470001  15.180  1.471692\n",
       "1  1/3/2008  1447.160034  85.570000  78.370003  15.285  1.474491\n",
       "2  1/4/2008  1411.630005  85.129997  77.309998  15.167  1.475492\n",
       "3  1/7/2008  1416.180054  84.769997  75.500000  15.053  1.468299\n",
       "4  1/8/2008  1390.189941  86.779999  76.059998  15.590  1.557099"
      ]
     },
     "execution_count": 3,
     "metadata": {},
     "output_type": "execute_result"
    }
   ],
   "source": [
    "df = pd.read_csv(\"E:\\\\Downloads\\\\gld_price_data.csv\")\n",
    "df.head()"
   ]
  },
  {
   "cell_type": "code",
   "execution_count": 4,
   "id": "cd7939ec",
   "metadata": {},
   "outputs": [
    {
     "data": {
      "text/html": [
       "<div>\n",
       "<style scoped>\n",
       "    .dataframe tbody tr th:only-of-type {\n",
       "        vertical-align: middle;\n",
       "    }\n",
       "\n",
       "    .dataframe tbody tr th {\n",
       "        vertical-align: top;\n",
       "    }\n",
       "\n",
       "    .dataframe thead th {\n",
       "        text-align: right;\n",
       "    }\n",
       "</style>\n",
       "<table border=\"1\" class=\"dataframe\">\n",
       "  <thead>\n",
       "    <tr style=\"text-align: right;\">\n",
       "      <th></th>\n",
       "      <th>Date</th>\n",
       "      <th>SPX</th>\n",
       "      <th>GLD</th>\n",
       "      <th>USO</th>\n",
       "      <th>SLV</th>\n",
       "      <th>EUR/USD</th>\n",
       "    </tr>\n",
       "  </thead>\n",
       "  <tbody>\n",
       "    <tr>\n",
       "      <th>2285</th>\n",
       "      <td>5/8/2018</td>\n",
       "      <td>2671.919922</td>\n",
       "      <td>124.589996</td>\n",
       "      <td>14.0600</td>\n",
       "      <td>15.5100</td>\n",
       "      <td>1.186789</td>\n",
       "    </tr>\n",
       "    <tr>\n",
       "      <th>2286</th>\n",
       "      <td>5/9/2018</td>\n",
       "      <td>2697.790039</td>\n",
       "      <td>124.330002</td>\n",
       "      <td>14.3700</td>\n",
       "      <td>15.5300</td>\n",
       "      <td>1.184722</td>\n",
       "    </tr>\n",
       "    <tr>\n",
       "      <th>2287</th>\n",
       "      <td>5/10/2018</td>\n",
       "      <td>2723.070068</td>\n",
       "      <td>125.180000</td>\n",
       "      <td>14.4100</td>\n",
       "      <td>15.7400</td>\n",
       "      <td>1.191753</td>\n",
       "    </tr>\n",
       "    <tr>\n",
       "      <th>2288</th>\n",
       "      <td>5/14/2018</td>\n",
       "      <td>2730.129883</td>\n",
       "      <td>124.489998</td>\n",
       "      <td>14.3800</td>\n",
       "      <td>15.5600</td>\n",
       "      <td>1.193118</td>\n",
       "    </tr>\n",
       "    <tr>\n",
       "      <th>2289</th>\n",
       "      <td>5/16/2018</td>\n",
       "      <td>2725.780029</td>\n",
       "      <td>122.543800</td>\n",
       "      <td>14.4058</td>\n",
       "      <td>15.4542</td>\n",
       "      <td>1.182033</td>\n",
       "    </tr>\n",
       "  </tbody>\n",
       "</table>\n",
       "</div>"
      ],
      "text/plain": [
       "           Date          SPX         GLD      USO      SLV   EUR/USD\n",
       "2285   5/8/2018  2671.919922  124.589996  14.0600  15.5100  1.186789\n",
       "2286   5/9/2018  2697.790039  124.330002  14.3700  15.5300  1.184722\n",
       "2287  5/10/2018  2723.070068  125.180000  14.4100  15.7400  1.191753\n",
       "2288  5/14/2018  2730.129883  124.489998  14.3800  15.5600  1.193118\n",
       "2289  5/16/2018  2725.780029  122.543800  14.4058  15.4542  1.182033"
      ]
     },
     "execution_count": 4,
     "metadata": {},
     "output_type": "execute_result"
    }
   ],
   "source": [
    "df.tail()"
   ]
  },
  {
   "cell_type": "code",
   "execution_count": 5,
   "id": "0827bab4",
   "metadata": {},
   "outputs": [
    {
     "data": {
      "text/plain": [
       "(2290, 6)"
      ]
     },
     "execution_count": 5,
     "metadata": {},
     "output_type": "execute_result"
    }
   ],
   "source": [
    "df.shape"
   ]
  },
  {
   "cell_type": "code",
   "execution_count": 6,
   "id": "0cb79c2a",
   "metadata": {},
   "outputs": [
    {
     "name": "stdout",
     "output_type": "stream",
     "text": [
      "<class 'pandas.core.frame.DataFrame'>\n",
      "RangeIndex: 2290 entries, 0 to 2289\n",
      "Data columns (total 6 columns):\n",
      " #   Column   Non-Null Count  Dtype  \n",
      "---  ------   --------------  -----  \n",
      " 0   Date     2290 non-null   object \n",
      " 1   SPX      2290 non-null   float64\n",
      " 2   GLD      2290 non-null   float64\n",
      " 3   USO      2290 non-null   float64\n",
      " 4   SLV      2290 non-null   float64\n",
      " 5   EUR/USD  2290 non-null   float64\n",
      "dtypes: float64(5), object(1)\n",
      "memory usage: 107.5+ KB\n"
     ]
    }
   ],
   "source": [
    "df.info()"
   ]
  },
  {
   "cell_type": "code",
   "execution_count": 7,
   "id": "7dde9d0e",
   "metadata": {},
   "outputs": [
    {
     "data": {
      "text/plain": [
       "Date       0\n",
       "SPX        0\n",
       "GLD        0\n",
       "USO        0\n",
       "SLV        0\n",
       "EUR/USD    0\n",
       "dtype: int64"
      ]
     },
     "execution_count": 7,
     "metadata": {},
     "output_type": "execute_result"
    }
   ],
   "source": [
    "df.isnull().sum()"
   ]
  },
  {
   "cell_type": "code",
   "execution_count": 8,
   "id": "ce722c6a",
   "metadata": {},
   "outputs": [
    {
     "data": {
      "text/html": [
       "<div>\n",
       "<style scoped>\n",
       "    .dataframe tbody tr th:only-of-type {\n",
       "        vertical-align: middle;\n",
       "    }\n",
       "\n",
       "    .dataframe tbody tr th {\n",
       "        vertical-align: top;\n",
       "    }\n",
       "\n",
       "    .dataframe thead th {\n",
       "        text-align: right;\n",
       "    }\n",
       "</style>\n",
       "<table border=\"1\" class=\"dataframe\">\n",
       "  <thead>\n",
       "    <tr style=\"text-align: right;\">\n",
       "      <th></th>\n",
       "      <th>SPX</th>\n",
       "      <th>GLD</th>\n",
       "      <th>USO</th>\n",
       "      <th>SLV</th>\n",
       "      <th>EUR/USD</th>\n",
       "    </tr>\n",
       "  </thead>\n",
       "  <tbody>\n",
       "    <tr>\n",
       "      <th>count</th>\n",
       "      <td>2290.000000</td>\n",
       "      <td>2290.000000</td>\n",
       "      <td>2290.000000</td>\n",
       "      <td>2290.000000</td>\n",
       "      <td>2290.000000</td>\n",
       "    </tr>\n",
       "    <tr>\n",
       "      <th>mean</th>\n",
       "      <td>1654.315776</td>\n",
       "      <td>122.732875</td>\n",
       "      <td>31.842221</td>\n",
       "      <td>20.084997</td>\n",
       "      <td>1.283653</td>\n",
       "    </tr>\n",
       "    <tr>\n",
       "      <th>std</th>\n",
       "      <td>519.111540</td>\n",
       "      <td>23.283346</td>\n",
       "      <td>19.523517</td>\n",
       "      <td>7.092566</td>\n",
       "      <td>0.131547</td>\n",
       "    </tr>\n",
       "    <tr>\n",
       "      <th>min</th>\n",
       "      <td>676.530029</td>\n",
       "      <td>70.000000</td>\n",
       "      <td>7.960000</td>\n",
       "      <td>8.850000</td>\n",
       "      <td>1.039047</td>\n",
       "    </tr>\n",
       "    <tr>\n",
       "      <th>25%</th>\n",
       "      <td>1239.874969</td>\n",
       "      <td>109.725000</td>\n",
       "      <td>14.380000</td>\n",
       "      <td>15.570000</td>\n",
       "      <td>1.171313</td>\n",
       "    </tr>\n",
       "    <tr>\n",
       "      <th>50%</th>\n",
       "      <td>1551.434998</td>\n",
       "      <td>120.580002</td>\n",
       "      <td>33.869999</td>\n",
       "      <td>17.268500</td>\n",
       "      <td>1.303297</td>\n",
       "    </tr>\n",
       "    <tr>\n",
       "      <th>75%</th>\n",
       "      <td>2073.010070</td>\n",
       "      <td>132.840004</td>\n",
       "      <td>37.827501</td>\n",
       "      <td>22.882500</td>\n",
       "      <td>1.369971</td>\n",
       "    </tr>\n",
       "    <tr>\n",
       "      <th>max</th>\n",
       "      <td>2872.870117</td>\n",
       "      <td>184.589996</td>\n",
       "      <td>117.480003</td>\n",
       "      <td>47.259998</td>\n",
       "      <td>1.598798</td>\n",
       "    </tr>\n",
       "  </tbody>\n",
       "</table>\n",
       "</div>"
      ],
      "text/plain": [
       "               SPX          GLD          USO          SLV      EUR/USD\n",
       "count  2290.000000  2290.000000  2290.000000  2290.000000  2290.000000\n",
       "mean   1654.315776   122.732875    31.842221    20.084997     1.283653\n",
       "std     519.111540    23.283346    19.523517     7.092566     0.131547\n",
       "min     676.530029    70.000000     7.960000     8.850000     1.039047\n",
       "25%    1239.874969   109.725000    14.380000    15.570000     1.171313\n",
       "50%    1551.434998   120.580002    33.869999    17.268500     1.303297\n",
       "75%    2073.010070   132.840004    37.827501    22.882500     1.369971\n",
       "max    2872.870117   184.589996   117.480003    47.259998     1.598798"
      ]
     },
     "execution_count": 8,
     "metadata": {},
     "output_type": "execute_result"
    }
   ],
   "source": [
    "df.describe()"
   ]
  },
  {
   "cell_type": "code",
   "execution_count": 9,
   "id": "2899daec",
   "metadata": {},
   "outputs": [
    {
     "data": {
      "text/plain": [
       "count    2290.000000\n",
       "mean      122.732875\n",
       "std        23.283346\n",
       "min        70.000000\n",
       "25%       109.725000\n",
       "50%       120.580002\n",
       "75%       132.840004\n",
       "max       184.589996\n",
       "Name: GLD, dtype: float64"
      ]
     },
     "execution_count": 9,
     "metadata": {},
     "output_type": "execute_result"
    }
   ],
   "source": [
    "df.GLD.describe()"
   ]
  },
  {
   "cell_type": "code",
   "execution_count": 10,
   "id": "dae5dca6",
   "metadata": {},
   "outputs": [],
   "source": [
    "correlation = df.corr()"
   ]
  },
  {
   "cell_type": "code",
   "execution_count": 11,
   "id": "629a2f80",
   "metadata": {},
   "outputs": [
    {
     "data": {
      "text/plain": [
       "<AxesSubplot:>"
      ]
     },
     "execution_count": 11,
     "metadata": {},
     "output_type": "execute_result"
    },
    {
     "data": {
      "image/png": "[encoded data removed]",
      "text/plain": [
       "<Figure size 600x600 with 2 Axes>"
      ]
     },
     "metadata": {},
     "output_type": "display_data"
    }
   ],
   "source": [
    "plt.figure(figsize=(6,6))\n",
    "sns.heatmap(correlation, cbar = True, square = True, fmt='.1f', annot = True, annot_kws={'size':8}, cmap = 'Blues')"
   ]
  },
  {
   "cell_type": "code",
   "execution_count": 12,
   "id": "18d500f8",
   "metadata": {},
   "outputs": [
    {
     "name": "stdout",
     "output_type": "stream",
     "text": [
      "SPX        0.049345\n",
      "GLD        1.000000\n",
      "USO       -0.186360\n",
      "SLV        0.866632\n",
      "EUR/USD   -0.024375\n",
      "Name: GLD, dtype: float64\n"
     ]
    }
   ],
   "source": [
    "print(correlation['GLD'])"
   ]
  },
  {
   "cell_type": "code",
   "execution_count": 13,
   "id": "b86bfc33",
   "metadata": {},
   "outputs": [
    {
     "data": {
      "text/plain": [
       "<seaborn.axisgrid.FacetGrid at 0x1b9d1eb6df0>"
      ]
     },
     "execution_count": 13,
     "metadata": {},
     "output_type": "execute_result"
    },
    {
     "data": {
      "image/png": "[encoded data removed]",
      "text/plain": [
       "<Figure size 500x500 with 1 Axes>"
      ]
     },
     "metadata": {},
     "output_type": "display_data"
    }
   ],
   "source": [
    "#checking the distribution of GLD price\n",
    "sns.displot(df.GLD, color = 'green')"
   ]
  },
  {
   "cell_type": "code",
   "execution_count": 14,
   "id": "b69e8206",
   "metadata": {},
   "outputs": [],
   "source": [
    "#Splitting features and the target\n",
    "X = df.drop(['Date', 'GLD'], axis=1)\n",
    "Y = df.GLD"
   ]
  },
  {
   "cell_type": "code",
   "execution_count": 15,
   "id": "21926a81",
   "metadata": {},
   "outputs": [
    {
     "data": {
      "text/html": [
       "<div>\n",
       "<style scoped>\n",
       "    .dataframe tbody tr th:only-of-type {\n",
       "        vertical-align: middle;\n",
       "    }\n",
       "\n",
       "    .dataframe tbody tr th {\n",
       "        vertical-align: top;\n",
       "    }\n",
       "\n",
       "    .dataframe thead th {\n",
       "        text-align: right;\n",
       "    }\n",
       "</style>\n",
       "<table border=\"1\" class=\"dataframe\">\n",
       "  <thead>\n",
       "    <tr style=\"text-align: right;\">\n",
       "      <th></th>\n",
       "      <th>SPX</th>\n",
       "      <th>USO</th>\n",
       "      <th>SLV</th>\n",
       "      <th>EUR/USD</th>\n",
       "    </tr>\n",
       "  </thead>\n",
       "  <tbody>\n",
       "    <tr>\n",
       "      <th>0</th>\n",
       "      <td>1447.160034</td>\n",
       "      <td>78.470001</td>\n",
       "      <td>15.180</td>\n",
       "      <td>1.471692</td>\n",
       "    </tr>\n",
       "    <tr>\n",
       "      <th>1</th>\n",
       "      <td>1447.160034</td>\n",
       "      <td>78.370003</td>\n",
       "      <td>15.285</td>\n",
       "      <td>1.474491</td>\n",
       "    </tr>\n",
       "    <tr>\n",
       "      <th>2</th>\n",
       "      <td>1411.630005</td>\n",
       "      <td>77.309998</td>\n",
       "      <td>15.167</td>\n",
       "      <td>1.475492</td>\n",
       "    </tr>\n",
       "    <tr>\n",
       "      <th>3</th>\n",
       "      <td>1416.180054</td>\n",
       "      <td>75.500000</td>\n",
       "      <td>15.053</td>\n",
       "      <td>1.468299</td>\n",
       "    </tr>\n",
       "    <tr>\n",
       "      <th>4</th>\n",
       "      <td>1390.189941</td>\n",
       "      <td>76.059998</td>\n",
       "      <td>15.590</td>\n",
       "      <td>1.557099</td>\n",
       "    </tr>\n",
       "  </tbody>\n",
       "</table>\n",
       "</div>"
      ],
      "text/plain": [
       "           SPX        USO     SLV   EUR/USD\n",
       "0  1447.160034  78.470001  15.180  1.471692\n",
       "1  1447.160034  78.370003  15.285  1.474491\n",
       "2  1411.630005  77.309998  15.167  1.475492\n",
       "3  1416.180054  75.500000  15.053  1.468299\n",
       "4  1390.189941  76.059998  15.590  1.557099"
      ]
     },
     "execution_count": 15,
     "metadata": {},
     "output_type": "execute_result"
    }
   ],
   "source": [
    "X.head()"
   ]
  },
  {
   "cell_type": "code",
   "execution_count": 16,
   "id": "09f58e55",
   "metadata": {},
   "outputs": [
    {
     "data": {
      "text/plain": [
       "0    84.860001\n",
       "1    85.570000\n",
       "2    85.129997\n",
       "3    84.769997\n",
       "4    86.779999\n",
       "Name: GLD, dtype: float64"
      ]
     },
     "execution_count": 16,
     "metadata": {},
     "output_type": "execute_result"
    }
   ],
   "source": [
    "Y.head()"
   ]
  },
  {
   "cell_type": "code",
   "execution_count": 17,
   "id": "77e87b15",
   "metadata": {},
   "outputs": [],
   "source": [
    "#Splitiing the X AND Y data into training data and test data\n",
    "X_train, X_test, Y_train, Y_test = train_test_split(X,Y, test_size = 0.2, random_state = 2) "
   ]
  },
  {
   "cell_type": "code",
   "execution_count": 18,
   "id": "fdf73272",
   "metadata": {},
   "outputs": [],
   "source": [
    "#Model training :: Random Forest Regressor\n",
    "regressor = RandomForestRegressor(n_estimators = 100)"
   ]
  },
  {
   "cell_type": "code",
   "execution_count": 19,
   "id": "d13739f0",
   "metadata": {},
   "outputs": [
    {
     "data": {
      "text/plain": [
       "RandomForestRegressor()"
      ]
     },
     "execution_count": 19,
     "metadata": {},
     "output_type": "execute_result"
    }
   ],
   "source": [
    "#Fitting the training data in regressor\n",
    "regressor.fit(X_train, Y_train)"
   ]
  },
  {
   "cell_type": "code",
   "execution_count": 36,
   "id": "ea62abc2",
   "metadata": {},
   "outputs": [],
   "source": [
    "test_data_prediction = regressor.predict(X_test)"
   ]
  },
  {
   "cell_type": "code",
   "execution_count": 30,
   "id": "b1236cf1",
   "metadata": {},
   "outputs": [
    {
     "name": "stdout",
     "output_type": "stream",
     "text": [
      "[168.63169969  81.96829977 116.12729984 127.66200073 120.57200116\n",
      " 154.64509792 150.47139856 126.2169004  117.57969866 125.98910079\n",
      " 116.62910079 171.7915007  141.37889896 167.69679839 115.20699995\n",
      " 117.97650071 139.03750288 169.94090068 159.52390343 162.206699\n",
      " 155.18720054 125.41560025 175.94549937 157.64900423 125.24140042\n",
      "  93.96959978  77.52280015 120.41859999 119.09979949 167.52119948\n",
      "  88.21640062 125.29650041  91.12490062 117.62400039 121.11729903\n",
      " 135.82230095 115.75460123 114.93950084 148.06709948 107.21620085\n",
      " 104.34520254  87.10869786 126.34030088 118.09080015 154.47909882\n",
      " 119.39550028 108.61889927 108.17029841  93.27790077 127.21569763\n",
      "  74.97000039 113.70949938 121.33200007 111.22199881 118.88429885\n",
      " 120.46269958 158.55330053 166.78990158 147.00889709  86.05959869\n",
      "  94.52350026  86.81879819  90.54580021 119.04360078 126.46320049\n",
      " 127.43320021 169.03859963 122.25309896 117.38329899  98.6187002\n",
      " 167.38690025 143.12119828 132.01500177 121.18910202 121.3595997\n",
      " 119.64880078 114.48060171 118.1801006  107.06140102 127.8318007\n",
      " 113.99729953 107.96970032 116.6956007  119.70299911  89.06310057\n",
      "  88.38009886 146.83620239 127.27960046 113.56120023 110.18659834\n",
      " 108.24449903  77.59229899 170.1697018  114.1652991  121.69449903\n",
      " 128.02950195 154.81819886  91.7316997  135.89270119 158.99350379\n",
      " 125.98050056 125.43740038 130.53020169 114.85770127 119.64759995\n",
      "  92.12469951 110.42829905 167.75259939 156.16519864 114.37519973\n",
      " 106.57380144  79.74749951 113.25480044 125.84260065 107.34129912\n",
      " 119.11970112 155.28040271 159.82409901 120.3855998  133.64750285\n",
      " 101.34669971 117.27379804 119.26160011 112.98270095 102.80549904\n",
      " 160.31799802  98.65280048 147.65289917 125.96870107 169.41569876\n",
      " 125.43019945 127.36899728 127.49140195 113.76069917 112.80270067\n",
      " 123.31429905 102.21539917  89.17889996 124.45439959 102.07269937\n",
      " 107.11269911 113.09420023 117.52560078  99.53189978 121.71330048\n",
      " 163.05279849  87.26459865 106.9339998  117.21170042 127.72920169\n",
      " 124.2205009   80.76599911 120.33990083 157.54469837  88.15769939\n",
      " 110.14749945 119.0275992  172.29209878 103.04929898 105.77660024\n",
      " 122.80790013 157.1707982   87.50179837  93.56800034 112.78900027\n",
      " 177.41569953 114.69579973 119.29490001  94.71950092 125.80009999\n",
      " 166.35860032 114.92020076 116.85260111  88.41049876 148.74570114\n",
      " 120.30559965  89.6014     111.62400005 117.20340037 118.67670115\n",
      "  88.18409948  94.10829978 117.02980067 118.44070158 120.30760037\n",
      " 126.76469805 122.01129961 151.11860013 165.59269972 118.60079949\n",
      " 120.38410159 151.03029972 118.35029904 172.17149909 105.70799937\n",
      " 104.90260119 149.05430116 113.78670117 124.85200108 147.91089986\n",
      " 119.55920096 115.4719006  112.61839998 113.37220192 142.10990151\n",
      " 117.86239771 102.93820035 115.84170071 103.6113018   98.81950035\n",
      " 117.50120082  90.70739979  91.73560011 153.48219914 102.5789\n",
      " 154.72620084 114.17870161 138.6575012   90.12209797 115.51679922\n",
      " 114.91180005 122.96210054 121.77110038 165.57740137  92.93329948\n",
      " 135.82660141 121.36439912 120.66720068 104.63310001 142.41460252\n",
      " 121.96659895 116.58620048 113.82600045 126.93819826 122.87049926\n",
      " 125.82079947 121.25830021  86.85019899 132.29230225 143.83610245\n",
      "  92.73990008 158.28939917 158.77780224 126.12189882 164.73769943\n",
      " 108.9094997  110.08880044 103.70869847  94.61660047 127.85400275\n",
      " 107.05070029 161.21169988 121.6879003  131.98040076 130.6095018\n",
      " 159.90100001  90.04459825 174.9402018  127.75190002 126.81599866\n",
      "  86.49529965 124.58869958 150.39539747  89.70330016 107.21329965\n",
      " 109.0209      84.0258991  135.78440027 155.18130248 139.5874031\n",
      "  74.15580026 153.29480085 126.07209994 126.68890046 127.52219877\n",
      " 108.64909943 156.23590067 114.46850085 116.89340117 125.38180016\n",
      " 154.18100123 121.32929998 156.37039903  92.9474008  125.45700135\n",
      " 125.71630007  88.00980026  92.13959904 126.2573991  128.06930296\n",
      " 113.19910076 117.29409698 120.78340029 126.99939889 119.72750133\n",
      " 135.71680053  93.86979898 119.73170052 113.158601    94.28489948\n",
      " 108.90069968  87.40719932 108.72579954  89.71769975  92.34620029\n",
      " 131.49410278 162.53280024  89.35219993 119.70530069 133.55670225\n",
      " 123.94900053 128.39040142 102.01369841  88.98139863 131.62240056\n",
      " 120.19080048 108.86209959 167.8726012  115.0988002   86.67249904\n",
      " 118.91040044  91.06729952 161.30930039 116.40250019 121.65229999\n",
      " 160.21469756 119.94079939 112.6583994  108.49199862 126.74229974\n",
      "  76.12440038 103.05039983 127.73050279 121.82549908  92.63590024\n",
      " 131.85230048 117.98470091 116.04279961 154.50870293 159.07890077\n",
      " 110.15589947 156.10779811 119.14090085 160.77440097 118.66180022\n",
      " 157.55299871 115.15339972 116.53780034 149.16949939 114.67920086\n",
      " 125.6405986  165.02999926 117.90239989 124.95429941 153.32530349\n",
      " 153.45440259 132.08260133 114.68830036 121.036602   125.14600118\n",
      "  89.77170062 122.7841001  154.38050126 111.86680056 106.73720008\n",
      " 162.34190099 118.70599963 165.75439968 134.22030097 115.19149955\n",
      " 152.8523985  168.82950072 114.97310026 113.98060133 156.52899858\n",
      "  85.4174986  127.15050032 127.90910081 128.93029938 124.44100077\n",
      " 123.99810051  90.4664007  153.19820038  97.28469965 137.10659961\n",
      "  89.06209937 107.91930023 115.13590078 112.70270076 124.46819954\n",
      "  91.37079882 125.41990141 162.38679837 119.98329871 165.21470078\n",
      " 126.80289831 112.24620016 127.52469945  94.95299892  91.22829991\n",
      " 103.74889913 120.82040011  83.25119952 126.46809987 160.61840437\n",
      " 117.2466007  118.27329972 119.87190004 122.6673999  120.00320134\n",
      " 121.45649998 118.10850092 107.0215997  148.19470026 126.1135983\n",
      " 115.67480057  73.85649999 127.867001   154.67780053 122.81980019\n",
      " 125.56020041  88.85950011 103.90249924 124.68760052 120.28340049\n",
      "  73.41070072 151.41639984 121.0260005  104.5533003   86.30979758\n",
      " 115.03199916 172.1917978  119.81820049 159.71969725 113.14889948\n",
      " 120.95390029 118.37090081  95.9239998  118.90769983 126.18220077\n",
      " 118.44589936  95.61070018 154.01360188 122.01900004 147.64759948\n",
      " 159.56170279 113.66590043 122.71169893 150.15359796 127.34110002\n",
      " 165.7985004  135.25359989 120.08139955 167.09639931 108.57529873\n",
      " 121.71589863 138.74310139 106.72359906]\n"
     ]
    }
   ],
   "source": [
    "print(test_data_prediction)"
   ]
  },
  {
   "cell_type": "code",
   "execution_count": 31,
   "id": "841f289e",
   "metadata": {},
   "outputs": [
    {
     "name": "stdout",
     "output_type": "stream",
     "text": [
      "R squared error:  0.9892546479051071\n"
     ]
    }
   ],
   "source": [
    "# R squared error -> Gives the difference between the real values and the predicted values->> Called error\n",
    "error_score = metrics.r2_score(Y_test, test_data_prediction)\n",
    "print(\"R squared error: \", error_score)"
   ]
  },
  {
   "cell_type": "code",
   "execution_count": 32,
   "id": "91d03fa2",
   "metadata": {},
   "outputs": [],
   "source": [
    "#If not done this then graph becomes very dirty\n",
    "Y_test = list(Y_test)"
   ]
  },
  {
   "cell_type": "code",
   "execution_count": 33,
   "id": "c984f0af",
   "metadata": {},
   "outputs": [
    {
     "data": {
      "image/png": "[encoded data removed]",
      "text/plain": [
       "<Figure size 640x480 with 1 Axes>"
      ]
     },
     "metadata": {},
     "output_type": "display_data"
    }
   ],
   "source": [
    "plt.plot(Y_test, color = 'red', label='Actual Value')\n",
    "plt.plot(test_data_prediction, color = 'green', label = 'Predicted Value')\n",
    "plt.title('Actual price VS Predicted price')\n",
    "plt.xlabel('Number of Values')\n",
    "plt.ylabel('GOLD price')\n",
    "plt.legend()\n",
    "plt.show()"
   ]
  },
  {
   "cell_type": "code",
   "execution_count": 37,
   "id": "cb6a92cb",
   "metadata": {},
   "outputs": [
    {
     "name": "stderr",
     "output_type": "stream",
     "text": [
      "C:\\Users\\Hp\\anaconda3\\lib\\site-packages\\sklearn\\base.py:450: UserWarning: X does not have valid feature names, but RandomForestRegressor was fitted with feature names\n",
      "  warnings.warn(\n"
     ]
    },
    {
     "data": {
      "text/plain": [
       "array([84.9920999])"
      ]
     },
     "execution_count": 37,
     "metadata": {},
     "output_type": "execute_result"
    }
   ],
   "source": [
    "regressor.predict([[1447.160034, 78.470001, 15.180, 1.471692]])"
   ]
  },
  {
   "cell_type": "code",
   "execution_count": null,
   "id": "ddb75a51",
   "metadata": {},
   "outputs": [],
   "source": []
  }
 ],
 "metadata": {
  "kernelspec": {
   "display_name": "Python 3 (ipykernel)",
   "language": "python",
   "name": "python3"
  },
  "language_info": {
   "codemirror_mode": {
    "name": "ipython",
    "version": 3
   },
   "file_extension": ".py",
   "mimetype": "text/x-python",
   "name": "python",
   "nbconvert_exporter": "python",
   "pygments_lexer": "ipython3",
   "version": "3.9.13"
  }
 },
 "nbformat": 4,
 "nbformat_minor": 5
}
